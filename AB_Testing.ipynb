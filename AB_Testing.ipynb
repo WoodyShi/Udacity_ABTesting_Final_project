{
 "cells": [
  {
   "cell_type": "markdown",
   "metadata": {},
   "source": [
    "# Udacity A/B testing Project"
   ]
  },
  {
   "cell_type": "markdown",
   "metadata": {},
   "source": [
    "### Final Project Instructions"
   ]
  },
  {
   "cell_type": "markdown",
   "metadata": {},
   "source": [
    "Experiment Overview: Free Trial Screener\n",
    "At the time of this experiment, Udacity courses currently have two options on the course overview page: \"start free trial\", and \"access course materials\". If the student clicks \"start free trial\", they will be asked to enter their credit card information, and then they will be enrolled in a free trial for the paid version of the course. After 14 days, they will automatically be charged unless they cancel first. If the student clicks \"access course materials\", they will be able to view the videos and take the quizzes for free, but they will not receive coaching support or a verified certificate, and they will not submit their final project for feedback.\n",
    "\n",
    "In the experiment, Udacity tested a change where if the student clicked \"start free trial\", they were asked how much time they had available to devote to the course. If the student indicated 5 or more hours per week, they would be taken through the checkout process as usual. If they indicated fewer than 5 hours per week, a message would appear indicating that Udacity courses usually require a greater time commitment for successful completion, and suggesting that the student might like to access the course materials for free. At this point, the student would have the option to continue enrolling in the free trial, or access the course materials for free instead. This screenshot shows what the experiment looks like.\n",
    "\n",
    "The hypothesis was that this might set clearer expectations for students upfront, thus reducing the number of frustrated students who left the free trial because they didn't have enough time—without significantly reducing the number of students to continue past the free trial and eventually complete the course. If this hypothesis held true, Udacity could improve the overall student experience and improve coaches' capacity to support students who are likely to complete the course.\n"
   ]
  },
  {
   "cell_type": "markdown",
   "metadata": {},
   "source": [
    "The unit of diversion is a cookie, although if the student enrolls in the free trial, they are tracked by user-id from that point forward. The same user-id cannot enroll in the free trial twice. For users that do not enroll, their user-id is not tracked in the experiment, even if they were signed in when they visited the course overview page."
   ]
  },
  {
   "cell_type": "markdown",
   "metadata": {},
   "source": [
    "### Metric Choice "
   ]
  },
  {
   "cell_type": "markdown",
   "metadata": {},
   "source": [
    "•\tNumber of cookies: That is, number of unique cookies to view the course overview page. (dmin=3000)\n",
    "\n",
    "•\tNumber of user-ids: That is, number of users who enroll in the free trial. (dmin=50)\n",
    "\n",
    "•\tNumber of clicks: That is, number of unique cookies to click the \"Start free trial\" button (which happens before the free trial screener is trigger). (dmin=240)\n",
    "\n",
    "•\tClick-through-probability: That is, number of unique cookies to click the \"Start free trial\" button divided by number of unique cookies to view the course overview page. (dmin=0.01)\n",
    "\n",
    "•\tGross conversion: That is, number of user-ids to complete checkout and enroll in the free trial divided by number of unique cookies to click the \"Start free trial\" button. (dmin= 0.01)\n",
    "\n",
    "•\tRetention: That is, number of user-ids to remain enrolled past the 14-day boundary (and thus make at least one payment) divided by number of user-ids to complete checkout. (dmin=0.01)\n",
    "\n",
    "•\tNet conversion: That is, number of user-ids to remain enrolled past the 14-day boundary (and thus make at least one payment) divided by the number of unique cookies to click the \"Start free trial\" button. (dmin= 0.0075)\n"
   ]
  },
  {
   "cell_type": "markdown",
   "metadata": {},
   "source": [
    "##### Invariant Metric  (variables that are not supposed to change across control and experiment groups)"
   ]
  },
  {
   "cell_type": "markdown",
   "metadata": {},
   "source": [
    "Number of cookies: user visits the page before they reach the prompt question\n",
    "\n",
    "Number of clicks:  same as above, user clicks befor they see the prompt question\n",
    "\n",
    "Click-through-probablity: CTP is basically number of clicks devided by number of cookies. So CTP should not change for either control or experiment group"
   ]
  },
  {
   "cell_type": "markdown",
   "metadata": {},
   "source": [
    "##### Evaluation Metrics  (variables that are expected to change across control and experiment groups)"
   ]
  },
  {
   "cell_type": "markdown",
   "metadata": {},
   "source": [
    "Gross Conversion: coulde decrease as some of the students would choose not to enroll after seeing the prompt question\n",
    "\n",
    "Retention: could increase as number of user-ids to complete checkout (the denominator) would decrease\n",
    "\n",
    "Net Conversion: could decrease as some of the students who would drop after one payment in control group would choose not to enroll in the experiment group knowing they won't be able to commit enough study time."
   ]
  },
  {
   "cell_type": "markdown",
   "metadata": {},
   "source": [
    "### Measuring Variability"
   ]
  },
  {
   "cell_type": "markdown",
   "metadata": {},
   "source": [
    "|Variant Name|Value|\n",
    "|---|---|\n",
    "|Unique cookies to view course overview page per day|40000|\n",
    "|Unique cookies to click \"Start free trial\" per day|3200|\n",
    "|Enrollments per day|660|\n",
    "|Click-through-probability on \"Start free trial\"|0.08|\n",
    "|Probability of enrolling, given click|0.20625|\n",
    "|Probability of payment, given enroll|0.53|\n",
    "|Probability of payment, given click|0.1093125|"
   ]
  },
  {
   "cell_type": "code",
   "execution_count": 18,
   "metadata": {},
   "outputs": [
    {
     "name": "stdout",
     "output_type": "stream",
     "text": [
      "expected number of enrollments is 5,000*0.08*0.20625 =  82.5\n",
      "expected number of unique cookies clicked 'Start free trail' per day is 5,000*0.08 = 400.0\n"
     ]
    }
   ],
   "source": [
    "#given a sample size of 5,000 cookies visiting the course overciew page, calculating the standard deviation\n",
    "import math\n",
    "print (\"expected number of enrollments is 5,000*0.08*0.20625 = \", 5000*0.08*0.20625)\n",
    "print (\"expected number of unique cookies clicked 'Start free trail' per day is 5,000*0.08 =\", 5000*0.08)"
   ]
  },
  {
   "cell_type": "code",
   "execution_count": 17,
   "metadata": {},
   "outputs": [
    {
     "name": "stdout",
     "output_type": "stream",
     "text": [
      "SD Gross Conversion is 0.020230604137049392\n",
      "SD Retention is 0.05494901217850908\n",
      "SD Net Conversion is 0.01560154458248846\n"
     ]
    }
   ],
   "source": [
    "print (\"SD Gross Conversion is\", math.sqrt(0.20625 * (1 - 0.20625) / 400))\n",
    "print (\"SD Retention is\", math.sqrt(0.53*(1-0.53) / 82.5))\n",
    "print (\"SD Net Conversion is\", math.sqrt(0.1093125*(1-0.1093125) / 400))"
   ]
  },
  {
   "cell_type": "markdown",
   "metadata": {},
   "source": [
    "### Sizing"
   ]
  },
  {
   "cell_type": "markdown",
   "metadata": {},
   "source": [
    "using the online sample size calculation tool https://www.evanmiller.org/ab-testing/sample-size.html  \n",
    "with an alpha of 0.05 and a beta of 0.2 to get teh sample size of each evaluation metric."
   ]
  },
  {
   "cell_type": "code",
   "execution_count": 28,
   "metadata": {},
   "outputs": [
    {
     "name": "stdout",
     "output_type": "stream",
     "text": [
      "Sample size using Gross Conversion is 25,835 (baseline conversion rate is 0.20625)\n",
      "Sample size using Retention is 39,115 (baseline conversion rate is 0.53)\n",
      "Sample size using Net Conversion is 27,413 (baseline conversion rate is 0.0.1093125)\n"
     ]
    }
   ],
   "source": [
    "print (\"Sample size using Gross Conversion is 25,835 (baseline conversion rate is 0.20625)\")\n",
    "print (\"Sample size using Retention is 39,115 (baseline conversion rate is 0.53)\")\n",
    "print (\"Sample size using Net Conversion is 27,413 (baseline conversion rate is 0.0.1093125)\")\n"
   ]
  },
  {
   "cell_type": "markdown",
   "metadata": {},
   "source": [
    "To get the Total Number of Pageview (for both Control and Experiment groups) use number we calculated from sample size calculator divide baseline conversion rate times two"
   ]
  },
  {
   "cell_type": "code",
   "execution_count": 29,
   "metadata": {},
   "outputs": [
    {
     "name": "stdout",
     "output_type": "stream",
     "text": [
      "Total Number of Page view needed using Gross Conversion is 2*25835/0.08= 645875.0\n",
      "Total Number of Page view needed using Retention is 2*39115/(660/40000)= 4741212.121212121\n",
      "Total Number of Page view needed using Net Conversion is 2*27413/0.08= 685325.0\n"
     ]
    }
   ],
   "source": [
    "print (\"Total Number of Page view needed using Gross Conversion is 2*25835/0.08=\", 2*25835/0.08)\n",
    "print (\"Total Number of Page view needed using Retention is 2*39115/(660/40000)=\", 2*39115/(660/40000))\n",
    "print (\"Total Number of Page view needed using Net Conversion is 2*27413/0.08=\", 2*27413/0.08)"
   ]
  },
  {
   "cell_type": "markdown",
   "metadata": {},
   "source": [
    "Choose the largest number, we will need 4,741,212 pageviews to conduct the A/B test"
   ]
  },
  {
   "cell_type": "markdown",
   "metadata": {},
   "source": [
    "### Duration and Exposure"
   ]
  },
  {
   "cell_type": "markdown",
   "metadata": {},
   "source": [
    "Here we learn that using retention to evaluate the proposed change will be problematic, see calculation and analysis below"
   ]
  },
  {
   "cell_type": "code",
   "execution_count": 27,
   "metadata": {},
   "outputs": [
    {
     "name": "stdout",
     "output_type": "stream",
     "text": [
      "Number of Days required to conduct the test with 100% of traffice diverted to the test is 4,741,212/40,000 = 118.5303\n"
     ]
    }
   ],
   "source": [
    "# Because the number of page view is more than four million it would require a very long period to collect data we need  \n",
    "# even if we divert all the trafiice to the test\n",
    "print(\"Number of Days required to conduct the test with 100% of traffice diverted to the test is 4,741,212/40,000 =\", 4741212/40000)"
   ]
  },
  {
   "cell_type": "markdown",
   "metadata": {},
   "source": [
    "Calculation above diverted all of traffic to the test. Whihc means half of users are experiencing the new untested feature for next 4 months.  \n",
    "if we want to bring down the risk of running untested new feature to less than 50% of the user, we will have to extend the experiment timeframe, which is also risky and costly.  \n",
    "Unfortunately we have leave Retention out of our evaluation Metrics.  \n",
    "\n",
    "This will change the Total Number of Page Views required to 685,324, which is the next largest number we calculated."
   ]
  },
  {
   "cell_type": "code",
   "execution_count": 31,
   "metadata": {},
   "outputs": [
    {
     "name": "stdout",
     "output_type": "stream",
     "text": [
      "Number of Days required to conduct the test with 100% of traffice diverted to the test is 685,324/40,000 = 17.1331\n"
     ]
    }
   ],
   "source": [
    "# Again, we first try to understand expected duration for the test by calculating expected days \n",
    "# if we divert all traffice to the test\n",
    "print(\"Number of Days required to conduct the test with 100% of traffice diverted to the test is 685,324/40,000 =\", 685324/40000)"
   ]
  },
  {
   "cell_type": "code",
   "execution_count": 34,
   "metadata": {},
   "outputs": [
    {
     "name": "stdout",
     "output_type": "stream",
     "text": [
      "Number of Days required to conduct the test with 50% of traffice diverted to the test is 685,324/(40,000*0.5) = 34.2662\n"
     ]
    }
   ],
   "source": [
    "# 18 days is reasonable to me. Next we will see if we only divert half of the traffic\n",
    "print(\"Number of Days required to conduct the test with 50% of traffice diverted to the test is 685,324/(40,000*0.5) =\", 685324/(40000*0.5))"
   ]
  },
  {
   "cell_type": "markdown",
   "metadata": {},
   "source": [
    "Now after the adjustment, out test will last 35 days, which is quite reasonable to me. "
   ]
  },
  {
   "cell_type": "code",
   "execution_count": null,
   "metadata": {},
   "outputs": [],
   "source": []
  }
 ],
 "metadata": {
  "kernelspec": {
   "display_name": "Python 3",
   "language": "python",
   "name": "python3"
  },
  "language_info": {
   "codemirror_mode": {
    "name": "ipython",
    "version": 3
   },
   "file_extension": ".py",
   "mimetype": "text/x-python",
   "name": "python",
   "nbconvert_exporter": "python",
   "pygments_lexer": "ipython3",
   "version": "3.7.3"
  }
 },
 "nbformat": 4,
 "nbformat_minor": 2
}
