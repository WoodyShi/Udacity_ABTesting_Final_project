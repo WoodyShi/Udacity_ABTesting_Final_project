{
 "cells": [
  {
   "cell_type": "markdown",
   "metadata": {},
   "source": [
    "# Udacity A/B testing Project"
   ]
  },
  {
   "cell_type": "markdown",
   "metadata": {},
   "source": [
    "### Final Project Instructions"
   ]
  },
  {
   "cell_type": "markdown",
   "metadata": {},
   "source": [
    "Experiment Overview: Free Trial Screener\n",
    "At the time of this experiment, Udacity courses currently have two options on the course overview page: \"start free trial\", and \"access course materials\". If the student clicks \"start free trial\", they will be asked to enter their credit card information, and then they will be enrolled in a free trial for the paid version of the course. After 14 days, they will automatically be charged unless they cancel first. If the student clicks \"access course materials\", they will be able to view the videos and take the quizzes for free, but they will not receive coaching support or a verified certificate, and they will not submit their final project for feedback.\n",
    "\n",
    "In the experiment, Udacity tested a change where if the student clicked \"start free trial\", they were asked how much time they had available to devote to the course. If the student indicated 5 or more hours per week, they would be taken through the checkout process as usual. If they indicated fewer than 5 hours per week, a message would appear indicating that Udacity courses usually require a greater time commitment for successful completion, and suggesting that the student might like to access the course materials for free. At this point, the student would have the option to continue enrolling in the free trial, or access the course materials for free instead. This screenshot shows what the experiment looks like.\n",
    "\n",
    "The hypothesis was that this might set clearer expectations for students upfront, thus reducing the number of frustrated students who left the free trial because they didn't have enough time—without significantly reducing the number of students to continue past the free trial and eventually complete the course. If this hypothesis held true, Udacity could improve the overall student experience and improve coaches' capacity to support students who are likely to complete the course.\n"
   ]
  },
  {
   "cell_type": "markdown",
   "metadata": {},
   "source": [
    "The unit of diversion is a cookie, although if the student enrolls in the free trial, they are tracked by user-id from that point forward. The same user-id cannot enroll in the free trial twice. For users that do not enroll, their user-id is not tracked in the experiment, even if they were signed in when they visited the course overview page."
   ]
  },
  {
   "cell_type": "markdown",
   "metadata": {},
   "source": [
    "### Metric Choice "
   ]
  },
  {
   "cell_type": "markdown",
   "metadata": {},
   "source": [
    "•\tNumber of cookies: That is, number of unique cookies to view the course overview page. (dmin=3000)  \n",
    "•\tNumber of user-ids: That is, number of users who enroll in the free trial. (dmin=50)  \n",
    "•\tNumber of clicks: That is, number of unique cookies to click the \"Start free trial\" button (which happens before the free trial screener is trigger). (dmin=240)  \n",
    "•\tClick-through-probability: That is, number of unique cookies to click the \"Start free trial\" button divided by number of unique cookies to view the course overview page. (dmin=0.01)  \n",
    "•\tGross conversion: That is, number of user-ids to complete checkout and enroll in the free trial divided by number of unique cookies to click the \"Start free trial\" button. (dmin= 0.01)  \n",
    "•\tRetention: That is, number of user-ids to remain enrolled past the 14-day boundary (and thus make at least one payment) divided by number of user-ids to complete checkout. (dmin=0.01)  \n",
    "•\tNet conversion: That is, number of user-ids to remain enrolled past the 14-day boundary (and thus make at least one payment) divided by the number of unique cookies to click the \"Start free trial\" button. (dmin= 0.0075)\n"
   ]
  },
  {
   "cell_type": "markdown",
   "metadata": {},
   "source": [
    "##### Invariant Metric  (variables that are not supposed to change across control and experiment groups)"
   ]
  },
  {
   "cell_type": "markdown",
   "metadata": {},
   "source": [
    "|Metric|Reasoning|\n",
    "|---|---|\n",
    "|Number of cookies| user visits the page before they reach the prompt question|\n",
    "|Number of clicks|  same as above, user clicks befor they see the prompt question|\n",
    "|Click-through-probablity| CTP is basically number of clicks devided by number of cookies. So CTP should not change for either control or experiment group|"
   ]
  },
  {
   "cell_type": "markdown",
   "metadata": {},
   "source": [
    "##### Evaluation Metrics  (variables that are expected to change across control and experiment groups)"
   ]
  },
  {
   "cell_type": "markdown",
   "metadata": {},
   "source": [
    "|Metric|Reasoning|\n",
    "|---|---|\n",
    "|Gross Conversion| coulde decrease as some of the students would choose not to enroll after seeing the prompt question|\n",
    "|Retention| could increase as number of user-ids to complete checkout (the denominator) would decrease|\n",
    "|Net Conversion| could decrease as some of the students who would drop after one payment in control group would choose not to enroll in the experiment group knowing they won't be able to commit enough study time.|"
   ]
  },
  {
   "cell_type": "markdown",
   "metadata": {},
   "source": [
    "### Measuring Variability"
   ]
  },
  {
   "cell_type": "markdown",
   "metadata": {},
   "source": [
    "|Variant Name|Value|\n",
    "|---|---|\n",
    "|Unique cookies to view course overview page per day|40000|\n",
    "|Unique cookies to click \"Start free trial\" per day|3200|\n",
    "|Enrollments per day|660|\n",
    "|Click-through-probability on \"Start free trial\"|0.08|\n",
    "|Probability of enrolling, given click|0.20625|\n",
    "|Probability of payment, given enroll|0.53|\n",
    "|Probability of payment, given click|0.1093125|"
   ]
  },
  {
   "cell_type": "code",
   "execution_count": 43,
   "metadata": {},
   "outputs": [
    {
     "name": "stdout",
     "output_type": "stream",
     "text": [
      "expected number of enrollments is 5,000*0.08*0.20625 =  82.5\n",
      "expected number of unique cookies clicked 'Start free trail' per day is 5,000*0.08 = 400.0\n"
     ]
    }
   ],
   "source": [
    "#given a sample size of 5,000 cookies visiting the course overciew page, calculating the standard deviation\n",
    "import math\n",
    "print (\"expected number of enrollments is 5,000*0.08*0.20625 = \", 5000*0.08*0.20625)\n",
    "print (\"expected number of unique cookies clicked 'Start free trail' per day is 5,000*0.08 =\", 5000*0.08)"
   ]
  },
  {
   "cell_type": "code",
   "execution_count": 17,
   "metadata": {},
   "outputs": [
    {
     "name": "stdout",
     "output_type": "stream",
     "text": [
      "SD Gross Conversion is 0.020230604137049392\n",
      "SD Retention is 0.05494901217850908\n",
      "SD Net Conversion is 0.01560154458248846\n"
     ]
    }
   ],
   "source": [
    "print (\"SD Gross Conversion is\", math.sqrt(0.20625 * (1 - 0.20625) / 400))\n",
    "print (\"SD Retention is\", math.sqrt(0.53*(1-0.53) / 82.5))\n",
    "print (\"SD Net Conversion is\", math.sqrt(0.1093125*(1-0.1093125) / 400))"
   ]
  },
  {
   "cell_type": "markdown",
   "metadata": {},
   "source": [
    "### Sizing"
   ]
  },
  {
   "cell_type": "markdown",
   "metadata": {},
   "source": [
    "using the online sample size calculation tool https://www.evanmiller.org/ab-testing/sample-size.html  \n",
    "with an alpha of 0.05 and a beta of 0.2 to get teh sample size of each evaluation metric."
   ]
  },
  {
   "cell_type": "code",
   "execution_count": 28,
   "metadata": {},
   "outputs": [
    {
     "name": "stdout",
     "output_type": "stream",
     "text": [
      "Sample size using Gross Conversion is 25,835 (baseline conversion rate is 0.20625)\n",
      "Sample size using Retention is 39,115 (baseline conversion rate is 0.53)\n",
      "Sample size using Net Conversion is 27,413 (baseline conversion rate is 0.0.1093125)\n"
     ]
    }
   ],
   "source": [
    "print (\"Sample size using Gross Conversion is 25,835 (baseline conversion rate is 0.20625)\")\n",
    "print (\"Sample size using Retention is 39,115 (baseline conversion rate is 0.53)\")\n",
    "print (\"Sample size using Net Conversion is 27,413 (baseline conversion rate is 0.0.1093125)\")\n"
   ]
  },
  {
   "cell_type": "markdown",
   "metadata": {},
   "source": [
    "To get the Total Number of Pageview (for both Control and Experiment groups) use number we calculated from sample size calculator divide baseline conversion rate times two"
   ]
  },
  {
   "cell_type": "code",
   "execution_count": 29,
   "metadata": {},
   "outputs": [
    {
     "name": "stdout",
     "output_type": "stream",
     "text": [
      "Total Number of Page view needed using Gross Conversion is 2*25835/0.08= 645875.0\n",
      "Total Number of Page view needed using Retention is 2*39115/(660/40000)= 4741212.121212121\n",
      "Total Number of Page view needed using Net Conversion is 2*27413/0.08= 685325.0\n"
     ]
    }
   ],
   "source": [
    "print (\"Total Number of Page view needed using Gross Conversion is 2*25835/0.08=\", 2*25835/0.08)\n",
    "print (\"Total Number of Page view needed using Retention is 2*39115/(660/40000)=\", 2*39115/(660/40000))\n",
    "print (\"Total Number of Page view needed using Net Conversion is 2*27413/0.08=\", 2*27413/0.08)"
   ]
  },
  {
   "cell_type": "markdown",
   "metadata": {},
   "source": [
    "Choose the largest number, we will need 4,741,212 pageviews to conduct the A/B test"
   ]
  },
  {
   "cell_type": "markdown",
   "metadata": {},
   "source": [
    "### Duration and Exposure"
   ]
  },
  {
   "cell_type": "markdown",
   "metadata": {},
   "source": [
    "Here we learn that using retention to evaluate the proposed change will be problematic, see calculation and analysis below"
   ]
  },
  {
   "cell_type": "code",
   "execution_count": 27,
   "metadata": {},
   "outputs": [
    {
     "name": "stdout",
     "output_type": "stream",
     "text": [
      "Number of Days required to conduct the test with 100% of traffice diverted to the test is 4,741,212/40,000 = 118.5303\n"
     ]
    }
   ],
   "source": [
    "# Because the number of page view is more than four million it would require a very long period to collect data we need  \n",
    "# even if we divert all the trafiice to the test\n",
    "print(\"Number of Days required to conduct the test with 100% of traffice diverted to the test is 4,741,212/40,000 =\", 4741212/40000)"
   ]
  },
  {
   "cell_type": "markdown",
   "metadata": {},
   "source": [
    "Calculation above diverted all of traffic to the test. Whihc means half of users are experiencing the new untested feature for next 4 months.  \n",
    "if we want to bring down the risk of running untested new feature to less than 50% of the user, we will have to extend the experiment timeframe, which is also risky and costly.  \n",
    "Unfortunately we have leave Retention out of our evaluation Metrics.  \n",
    "\n",
    "This will change the Total Number of Page Views required to 685,324, which is the next largest number we calculated."
   ]
  },
  {
   "cell_type": "code",
   "execution_count": 31,
   "metadata": {},
   "outputs": [
    {
     "name": "stdout",
     "output_type": "stream",
     "text": [
      "Number of Days required to conduct the test with 100% of traffice diverted to the test is 685,324/40,000 = 17.1331\n"
     ]
    }
   ],
   "source": [
    "# Again, we first try to understand expected duration for the test by calculating expected days \n",
    "# if we divert all traffice to the test\n",
    "print(\"Number of Days required to conduct the test with 100% of traffice diverted to the test is 685,324/40,000 =\", 685324/40000)"
   ]
  },
  {
   "cell_type": "code",
   "execution_count": 34,
   "metadata": {},
   "outputs": [
    {
     "name": "stdout",
     "output_type": "stream",
     "text": [
      "Number of Days required to conduct the test with 50% of traffice diverted to the test is 685,324/(40,000*0.5) = 34.2662\n"
     ]
    }
   ],
   "source": [
    "# 18 days is reasonable to me. Next we will see if we only divert half of the traffic\n",
    "print(\"Number of Days required to conduct the test with 50% of traffice diverted to the test is 685,324/(40,000*0.5) =\", 685324/(40000*0.5))"
   ]
  },
  {
   "cell_type": "markdown",
   "metadata": {},
   "source": [
    "Now after the adjustment, out test will last 35 days, which is quite reasonable to me. "
   ]
  },
  {
   "cell_type": "markdown",
   "metadata": {},
   "source": [
    "### Experiment Analysis"
   ]
  },
  {
   "cell_type": "code",
   "execution_count": 18,
   "metadata": {},
   "outputs": [],
   "source": [
    "import pandas as pd\n",
    "import matplotlib.pyplot as plt\n",
    "import seaborn as sns\n",
    "%matplotlib inline"
   ]
  },
  {
   "cell_type": "code",
   "execution_count": 12,
   "metadata": {},
   "outputs": [],
   "source": [
    "# read data\n",
    "con = pd.read_csv('Control.csv')\n",
    "exp = pd.read_csv('Experiment.csv')"
   ]
  },
  {
   "cell_type": "code",
   "execution_count": 4,
   "metadata": {},
   "outputs": [
    {
     "name": "stdout",
     "output_type": "stream",
     "text": [
      "Control Data\n"
     ]
    },
    {
     "data": {
      "text/html": [
       "<div>\n",
       "<style scoped>\n",
       "    .dataframe tbody tr th:only-of-type {\n",
       "        vertical-align: middle;\n",
       "    }\n",
       "\n",
       "    .dataframe tbody tr th {\n",
       "        vertical-align: top;\n",
       "    }\n",
       "\n",
       "    .dataframe thead th {\n",
       "        text-align: right;\n",
       "    }\n",
       "</style>\n",
       "<table border=\"1\" class=\"dataframe\">\n",
       "  <thead>\n",
       "    <tr style=\"text-align: right;\">\n",
       "      <th></th>\n",
       "      <th>Date</th>\n",
       "      <th>Pageviews</th>\n",
       "      <th>Clicks</th>\n",
       "      <th>Enrollments</th>\n",
       "      <th>Payments</th>\n",
       "    </tr>\n",
       "  </thead>\n",
       "  <tbody>\n",
       "    <tr>\n",
       "      <th>0</th>\n",
       "      <td>Sat, Oct 11</td>\n",
       "      <td>7723</td>\n",
       "      <td>687</td>\n",
       "      <td>134.0</td>\n",
       "      <td>70.0</td>\n",
       "    </tr>\n",
       "    <tr>\n",
       "      <th>1</th>\n",
       "      <td>Sun, Oct 12</td>\n",
       "      <td>9102</td>\n",
       "      <td>779</td>\n",
       "      <td>147.0</td>\n",
       "      <td>70.0</td>\n",
       "    </tr>\n",
       "    <tr>\n",
       "      <th>2</th>\n",
       "      <td>Mon, Oct 13</td>\n",
       "      <td>10511</td>\n",
       "      <td>909</td>\n",
       "      <td>167.0</td>\n",
       "      <td>95.0</td>\n",
       "    </tr>\n",
       "    <tr>\n",
       "      <th>3</th>\n",
       "      <td>Tue, Oct 14</td>\n",
       "      <td>9871</td>\n",
       "      <td>836</td>\n",
       "      <td>156.0</td>\n",
       "      <td>105.0</td>\n",
       "    </tr>\n",
       "    <tr>\n",
       "      <th>4</th>\n",
       "      <td>Wed, Oct 15</td>\n",
       "      <td>10014</td>\n",
       "      <td>837</td>\n",
       "      <td>163.0</td>\n",
       "      <td>64.0</td>\n",
       "    </tr>\n",
       "  </tbody>\n",
       "</table>\n",
       "</div>"
      ],
      "text/plain": [
       "          Date  Pageviews  Clicks  Enrollments  Payments\n",
       "0  Sat, Oct 11       7723     687        134.0      70.0\n",
       "1  Sun, Oct 12       9102     779        147.0      70.0\n",
       "2  Mon, Oct 13      10511     909        167.0      95.0\n",
       "3  Tue, Oct 14       9871     836        156.0     105.0\n",
       "4  Wed, Oct 15      10014     837        163.0      64.0"
      ]
     },
     "execution_count": 4,
     "metadata": {},
     "output_type": "execute_result"
    }
   ],
   "source": [
    "print(\"Control Data\")\n",
    "con.head()"
   ]
  },
  {
   "cell_type": "code",
   "execution_count": 5,
   "metadata": {},
   "outputs": [
    {
     "name": "stdout",
     "output_type": "stream",
     "text": [
      "Experiment Data\n"
     ]
    },
    {
     "data": {
      "text/html": [
       "<div>\n",
       "<style scoped>\n",
       "    .dataframe tbody tr th:only-of-type {\n",
       "        vertical-align: middle;\n",
       "    }\n",
       "\n",
       "    .dataframe tbody tr th {\n",
       "        vertical-align: top;\n",
       "    }\n",
       "\n",
       "    .dataframe thead th {\n",
       "        text-align: right;\n",
       "    }\n",
       "</style>\n",
       "<table border=\"1\" class=\"dataframe\">\n",
       "  <thead>\n",
       "    <tr style=\"text-align: right;\">\n",
       "      <th></th>\n",
       "      <th>Date</th>\n",
       "      <th>Pageviews</th>\n",
       "      <th>Clicks</th>\n",
       "      <th>Enrollments</th>\n",
       "      <th>Payments</th>\n",
       "    </tr>\n",
       "  </thead>\n",
       "  <tbody>\n",
       "    <tr>\n",
       "      <th>0</th>\n",
       "      <td>Sat, Oct 11</td>\n",
       "      <td>7716</td>\n",
       "      <td>686</td>\n",
       "      <td>105.0</td>\n",
       "      <td>34.0</td>\n",
       "    </tr>\n",
       "    <tr>\n",
       "      <th>1</th>\n",
       "      <td>Sun, Oct 12</td>\n",
       "      <td>9288</td>\n",
       "      <td>785</td>\n",
       "      <td>116.0</td>\n",
       "      <td>91.0</td>\n",
       "    </tr>\n",
       "    <tr>\n",
       "      <th>2</th>\n",
       "      <td>Mon, Oct 13</td>\n",
       "      <td>10480</td>\n",
       "      <td>884</td>\n",
       "      <td>145.0</td>\n",
       "      <td>79.0</td>\n",
       "    </tr>\n",
       "    <tr>\n",
       "      <th>3</th>\n",
       "      <td>Tue, Oct 14</td>\n",
       "      <td>9867</td>\n",
       "      <td>827</td>\n",
       "      <td>138.0</td>\n",
       "      <td>92.0</td>\n",
       "    </tr>\n",
       "    <tr>\n",
       "      <th>4</th>\n",
       "      <td>Wed, Oct 15</td>\n",
       "      <td>9793</td>\n",
       "      <td>832</td>\n",
       "      <td>140.0</td>\n",
       "      <td>94.0</td>\n",
       "    </tr>\n",
       "  </tbody>\n",
       "</table>\n",
       "</div>"
      ],
      "text/plain": [
       "          Date  Pageviews  Clicks  Enrollments  Payments\n",
       "0  Sat, Oct 11       7716     686        105.0      34.0\n",
       "1  Sun, Oct 12       9288     785        116.0      91.0\n",
       "2  Mon, Oct 13      10480     884        145.0      79.0\n",
       "3  Tue, Oct 14       9867     827        138.0      92.0\n",
       "4  Wed, Oct 15       9793     832        140.0      94.0"
      ]
     },
     "execution_count": 5,
     "metadata": {},
     "output_type": "execute_result"
    }
   ],
   "source": [
    "print (\"Experiment Data\")\n",
    "exp.head()"
   ]
  },
  {
   "cell_type": "code",
   "execution_count": 13,
   "metadata": {},
   "outputs": [],
   "source": [
    "# split Date column into Date and Days\n",
    "con[['Day', 'Date']] = con.Date.str.split(\", \", expand=True)\n",
    "exp[['Day', 'Date']] = exp.Date.str.split(\", \", expand=True)"
   ]
  },
  {
   "cell_type": "code",
   "execution_count": 15,
   "metadata": {},
   "outputs": [
    {
     "name": "stdout",
     "output_type": "stream",
     "text": [
      "Control Data\n"
     ]
    },
    {
     "data": {
      "text/html": [
       "<div>\n",
       "<style scoped>\n",
       "    .dataframe tbody tr th:only-of-type {\n",
       "        vertical-align: middle;\n",
       "    }\n",
       "\n",
       "    .dataframe tbody tr th {\n",
       "        vertical-align: top;\n",
       "    }\n",
       "\n",
       "    .dataframe thead th {\n",
       "        text-align: right;\n",
       "    }\n",
       "</style>\n",
       "<table border=\"1\" class=\"dataframe\">\n",
       "  <thead>\n",
       "    <tr style=\"text-align: right;\">\n",
       "      <th></th>\n",
       "      <th>Date</th>\n",
       "      <th>Pageviews</th>\n",
       "      <th>Clicks</th>\n",
       "      <th>Enrollments</th>\n",
       "      <th>Payments</th>\n",
       "      <th>Day</th>\n",
       "    </tr>\n",
       "  </thead>\n",
       "  <tbody>\n",
       "    <tr>\n",
       "      <th>0</th>\n",
       "      <td>Oct 11</td>\n",
       "      <td>7723</td>\n",
       "      <td>687</td>\n",
       "      <td>134.0</td>\n",
       "      <td>70.0</td>\n",
       "      <td>Sat</td>\n",
       "    </tr>\n",
       "    <tr>\n",
       "      <th>1</th>\n",
       "      <td>Oct 12</td>\n",
       "      <td>9102</td>\n",
       "      <td>779</td>\n",
       "      <td>147.0</td>\n",
       "      <td>70.0</td>\n",
       "      <td>Sun</td>\n",
       "    </tr>\n",
       "    <tr>\n",
       "      <th>2</th>\n",
       "      <td>Oct 13</td>\n",
       "      <td>10511</td>\n",
       "      <td>909</td>\n",
       "      <td>167.0</td>\n",
       "      <td>95.0</td>\n",
       "      <td>Mon</td>\n",
       "    </tr>\n",
       "    <tr>\n",
       "      <th>3</th>\n",
       "      <td>Oct 14</td>\n",
       "      <td>9871</td>\n",
       "      <td>836</td>\n",
       "      <td>156.0</td>\n",
       "      <td>105.0</td>\n",
       "      <td>Tue</td>\n",
       "    </tr>\n",
       "    <tr>\n",
       "      <th>4</th>\n",
       "      <td>Oct 15</td>\n",
       "      <td>10014</td>\n",
       "      <td>837</td>\n",
       "      <td>163.0</td>\n",
       "      <td>64.0</td>\n",
       "      <td>Wed</td>\n",
       "    </tr>\n",
       "  </tbody>\n",
       "</table>\n",
       "</div>"
      ],
      "text/plain": [
       "     Date  Pageviews  Clicks  Enrollments  Payments  Day\n",
       "0  Oct 11       7723     687        134.0      70.0  Sat\n",
       "1  Oct 12       9102     779        147.0      70.0  Sun\n",
       "2  Oct 13      10511     909        167.0      95.0  Mon\n",
       "3  Oct 14       9871     836        156.0     105.0  Tue\n",
       "4  Oct 15      10014     837        163.0      64.0  Wed"
      ]
     },
     "execution_count": 15,
     "metadata": {},
     "output_type": "execute_result"
    }
   ],
   "source": [
    "print(\"Control Data\")\n",
    "con.head()"
   ]
  },
  {
   "cell_type": "code",
   "execution_count": 16,
   "metadata": {},
   "outputs": [
    {
     "name": "stdout",
     "output_type": "stream",
     "text": [
      "Experiment Data\n"
     ]
    },
    {
     "data": {
      "text/html": [
       "<div>\n",
       "<style scoped>\n",
       "    .dataframe tbody tr th:only-of-type {\n",
       "        vertical-align: middle;\n",
       "    }\n",
       "\n",
       "    .dataframe tbody tr th {\n",
       "        vertical-align: top;\n",
       "    }\n",
       "\n",
       "    .dataframe thead th {\n",
       "        text-align: right;\n",
       "    }\n",
       "</style>\n",
       "<table border=\"1\" class=\"dataframe\">\n",
       "  <thead>\n",
       "    <tr style=\"text-align: right;\">\n",
       "      <th></th>\n",
       "      <th>Date</th>\n",
       "      <th>Pageviews</th>\n",
       "      <th>Clicks</th>\n",
       "      <th>Enrollments</th>\n",
       "      <th>Payments</th>\n",
       "      <th>Day</th>\n",
       "    </tr>\n",
       "  </thead>\n",
       "  <tbody>\n",
       "    <tr>\n",
       "      <th>0</th>\n",
       "      <td>Oct 11</td>\n",
       "      <td>7716</td>\n",
       "      <td>686</td>\n",
       "      <td>105.0</td>\n",
       "      <td>34.0</td>\n",
       "      <td>Sat</td>\n",
       "    </tr>\n",
       "    <tr>\n",
       "      <th>1</th>\n",
       "      <td>Oct 12</td>\n",
       "      <td>9288</td>\n",
       "      <td>785</td>\n",
       "      <td>116.0</td>\n",
       "      <td>91.0</td>\n",
       "      <td>Sun</td>\n",
       "    </tr>\n",
       "    <tr>\n",
       "      <th>2</th>\n",
       "      <td>Oct 13</td>\n",
       "      <td>10480</td>\n",
       "      <td>884</td>\n",
       "      <td>145.0</td>\n",
       "      <td>79.0</td>\n",
       "      <td>Mon</td>\n",
       "    </tr>\n",
       "    <tr>\n",
       "      <th>3</th>\n",
       "      <td>Oct 14</td>\n",
       "      <td>9867</td>\n",
       "      <td>827</td>\n",
       "      <td>138.0</td>\n",
       "      <td>92.0</td>\n",
       "      <td>Tue</td>\n",
       "    </tr>\n",
       "    <tr>\n",
       "      <th>4</th>\n",
       "      <td>Oct 15</td>\n",
       "      <td>9793</td>\n",
       "      <td>832</td>\n",
       "      <td>140.0</td>\n",
       "      <td>94.0</td>\n",
       "      <td>Wed</td>\n",
       "    </tr>\n",
       "  </tbody>\n",
       "</table>\n",
       "</div>"
      ],
      "text/plain": [
       "     Date  Pageviews  Clicks  Enrollments  Payments  Day\n",
       "0  Oct 11       7716     686        105.0      34.0  Sat\n",
       "1  Oct 12       9288     785        116.0      91.0  Sun\n",
       "2  Oct 13      10480     884        145.0      79.0  Mon\n",
       "3  Oct 14       9867     827        138.0      92.0  Tue\n",
       "4  Oct 15       9793     832        140.0      94.0  Wed"
      ]
     },
     "execution_count": 16,
     "metadata": {},
     "output_type": "execute_result"
    }
   ],
   "source": [
    "print (\"Experiment Data\")\n",
    "exp.head()"
   ]
  },
  {
   "cell_type": "code",
   "execution_count": 25,
   "metadata": {},
   "outputs": [
    {
     "data": {
      "text/plain": [
       "<matplotlib.legend.Legend at 0x19a42460208>"
      ]
     },
     "execution_count": 25,
     "metadata": {},
     "output_type": "execute_result"
    },
    {
     "data": {
      "image/png": "[encoded data removed]",
      "text/plain": [
       "<Figure size 1152x576 with 1 Axes>"
      ]
     },
     "metadata": {},
     "output_type": "display_data"
    }
   ],
   "source": [
    "# plot the metrics\n",
    "plt.style.use('ggplot')\n",
    "csfont = {'fontname':'Arial'}\n",
    "plt.figure(figsize=(16,8))\n",
    "plt.title('Click-through-probability')\n",
    "line1, = plt.plot(con['Clicks']/con['Pageviews'], label='control')\n",
    "line2, = plt.plot(exp['Clicks']/exp['Pageviews'], label='experiment')\n",
    "plt.legend(handles=[line1, line2])"
   ]
  },
  {
   "cell_type": "code",
   "execution_count": 54,
   "metadata": {},
   "outputs": [],
   "source": [
    "# we only have 23 rows of data for enrollment and payment. Trim the dataset before plotting\n",
    "con_2 = con[:23]\n",
    "exp_2 = exp[:23]"
   ]
  },
  {
   "cell_type": "code",
   "execution_count": 33,
   "metadata": {},
   "outputs": [
    {
     "data": {
      "text/html": [
       "<div>\n",
       "<style scoped>\n",
       "    .dataframe tbody tr th:only-of-type {\n",
       "        vertical-align: middle;\n",
       "    }\n",
       "\n",
       "    .dataframe tbody tr th {\n",
       "        vertical-align: top;\n",
       "    }\n",
       "\n",
       "    .dataframe thead th {\n",
       "        text-align: right;\n",
       "    }\n",
       "</style>\n",
       "<table border=\"1\" class=\"dataframe\">\n",
       "  <thead>\n",
       "    <tr style=\"text-align: right;\">\n",
       "      <th></th>\n",
       "      <th>Date</th>\n",
       "      <th>Pageviews</th>\n",
       "      <th>Clicks</th>\n",
       "      <th>Enrollments</th>\n",
       "      <th>Payments</th>\n",
       "      <th>Day</th>\n",
       "    </tr>\n",
       "  </thead>\n",
       "  <tbody>\n",
       "    <tr>\n",
       "      <th>0</th>\n",
       "      <td>Oct 11</td>\n",
       "      <td>7723</td>\n",
       "      <td>687</td>\n",
       "      <td>134.0</td>\n",
       "      <td>70.0</td>\n",
       "      <td>Sat</td>\n",
       "    </tr>\n",
       "    <tr>\n",
       "      <th>1</th>\n",
       "      <td>Oct 12</td>\n",
       "      <td>9102</td>\n",
       "      <td>779</td>\n",
       "      <td>147.0</td>\n",
       "      <td>70.0</td>\n",
       "      <td>Sun</td>\n",
       "    </tr>\n",
       "    <tr>\n",
       "      <th>2</th>\n",
       "      <td>Oct 13</td>\n",
       "      <td>10511</td>\n",
       "      <td>909</td>\n",
       "      <td>167.0</td>\n",
       "      <td>95.0</td>\n",
       "      <td>Mon</td>\n",
       "    </tr>\n",
       "    <tr>\n",
       "      <th>3</th>\n",
       "      <td>Oct 14</td>\n",
       "      <td>9871</td>\n",
       "      <td>836</td>\n",
       "      <td>156.0</td>\n",
       "      <td>105.0</td>\n",
       "      <td>Tue</td>\n",
       "    </tr>\n",
       "    <tr>\n",
       "      <th>4</th>\n",
       "      <td>Oct 15</td>\n",
       "      <td>10014</td>\n",
       "      <td>837</td>\n",
       "      <td>163.0</td>\n",
       "      <td>64.0</td>\n",
       "      <td>Wed</td>\n",
       "    </tr>\n",
       "  </tbody>\n",
       "</table>\n",
       "</div>"
      ],
      "text/plain": [
       "     Date  Pageviews  Clicks  Enrollments  Payments  Day\n",
       "0  Oct 11       7723     687        134.0      70.0  Sat\n",
       "1  Oct 12       9102     779        147.0      70.0  Sun\n",
       "2  Oct 13      10511     909        167.0      95.0  Mon\n",
       "3  Oct 14       9871     836        156.0     105.0  Tue\n",
       "4  Oct 15      10014     837        163.0      64.0  Wed"
      ]
     },
     "execution_count": 33,
     "metadata": {},
     "output_type": "execute_result"
    }
   ],
   "source": [
    "con_2.head()"
   ]
  },
  {
   "cell_type": "code",
   "execution_count": 36,
   "metadata": {},
   "outputs": [
    {
     "data": {
      "text/plain": [
       "<matplotlib.legend.Legend at 0x19a42e8c588>"
      ]
     },
     "execution_count": 36,
     "metadata": {},
     "output_type": "execute_result"
    },
    {
     "data": {
      "image/png": "[encoded data removed]",
      "text/plain": [
       "<Figure size 1152x576 with 1 Axes>"
      ]
     },
     "metadata": {},
     "output_type": "display_data"
    }
   ],
   "source": [
    "plt.figure(figsize=(16,8))\n",
    "plt.title('Gross conversion')\n",
    "line3, = plt.plot(con_2['Enrollments']/con_2['Clicks'], label='control')\n",
    "line4, = plt.plot(exp_2['Enrollments']/exp_2['Clicks'], label='experiment')\n",
    "plt.legend(handles=[line3, line4])"
   ]
  },
  {
   "cell_type": "code",
   "execution_count": 37,
   "metadata": {
    "scrolled": false
   },
   "outputs": [
    {
     "data": {
      "text/plain": [
       "<matplotlib.legend.Legend at 0x19a42efc4e0>"
      ]
     },
     "execution_count": 37,
     "metadata": {},
     "output_type": "execute_result"
    },
    {
     "data": {
      "image/png": "[encoded data removed]",
      "text/plain": [
       "<Figure size 1152x576 with 1 Axes>"
      ]
     },
     "metadata": {},
     "output_type": "display_data"
    }
   ],
   "source": [
    "plt.figure(figsize=(16,8))\n",
    "plt.title('Net conversion')\n",
    "line3, = plt.plot(con_2['Payments']/con_2['Clicks'], label='control')\n",
    "line4, = plt.plot(exp_2['Payments']/exp_2['Clicks'], label='experiment')\n",
    "plt.legend(handles=[line3, line4])"
   ]
  },
  {
   "cell_type": "markdown",
   "metadata": {},
   "source": [
    "### Sanity Check"
   ]
  },
  {
   "cell_type": "code",
   "execution_count": 42,
   "metadata": {},
   "outputs": [
    {
     "name": "stdout",
     "output_type": "stream",
     "text": [
      "Control Group:\n",
      "Pageview =  345543 \t Clicks =  28378\n",
      "\n",
      "Experiment Group:\n",
      "Pageview =  344660 \t Clicks =  28325\n"
     ]
    }
   ],
   "source": [
    "#get total number of Pageviews and Clicks for Control and Experiment group\n",
    "print (\"Control Group:\")\n",
    "print (\"Pageview = \", sum(con['Pageviews']), \"\\t\", \"Clicks = \", sum(con['Clicks']))\n",
    "print ()\n",
    "print (\"Experiment Group:\")\n",
    "print (\"Pageview = \", sum(exp['Pageviews']), \"\\t\", \"Clicks = \", sum(exp['Clicks']))\n"
   ]
  },
  {
   "cell_type": "code",
   "execution_count": 60,
   "metadata": {},
   "outputs": [
    {
     "name": "stdout",
     "output_type": "stream",
     "text": [
      "Number of Cookies:\n",
      "Standard Error =  0.0006018451002237962\n",
      "Margin of Error =  0.0011796163964386405\n",
      "Confidence Interval =  (0.49882038360356135, 0.5011796163964386)\n",
      "p-hat =  0.5006396668806133\n"
     ]
    }
   ],
   "source": [
    "# calculation for Sanity Checks of invariants\n",
    "\n",
    "# let p =0.5\n",
    "p = 0.5\n",
    "\n",
    "#Number of Cookies\n",
    "print (\"Number of Cookies:\")\n",
    "SE_cookies = math.sqrt(p*(1-p)/(345533+344660))\n",
    "print (\"Standard Error = \" , SE_cookies)\n",
    "ME_cookies = 1.96*SE_cookies\n",
    "print (\"Margin of Error = \", ME_cookies )\n",
    "print (\"Confidence Interval = \", (p-ME_cookies, p+ME_cookies)  )\n",
    "print (\"p-hat = \", 345543/(345543+344660) )"
   ]
  },
  {
   "cell_type": "markdown",
   "metadata": {},
   "source": [
    "p-hat falls in the Confidence Interval, passes Sanity Check"
   ]
  },
  {
   "cell_type": "code",
   "execution_count": 61,
   "metadata": {},
   "outputs": [
    {
     "name": "stdout",
     "output_type": "stream",
     "text": [
      "Number of Clicks on 'Start free trials':\n",
      "Standard Error =  0.002099747079699252\n",
      "Margin of Error =  0.0041155042762105335\n",
      "Confidence Interval =  (0.49588449572378945, 0.5041155042762105)\n",
      "p-hat =  0.5004673474066628\n"
     ]
    }
   ],
   "source": [
    "#Number of Clicks on \"Start free trials\"\n",
    "print (\"Number of Clicks on 'Start free trials':\")\n",
    "SE_users = math.sqrt(p*(1-p)/(28378+28325))\n",
    "print (\"Standard Error = \" , SE_users)\n",
    "ME_users = 1.96*SE_users\n",
    "print (\"Margin of Error = \", ME_users )\n",
    "print (\"Confidence Interval = \", (p-ME_users, p+ME_users)  )\n",
    "print (\"p-hat = \", 28378/(28378+28325) )"
   ]
  },
  {
   "cell_type": "markdown",
   "metadata": {},
   "source": [
    "p-hat falls in the Confidence Interval, passes Sanity Check"
   ]
  },
  {
   "cell_type": "code",
   "execution_count": 62,
   "metadata": {},
   "outputs": [
    {
     "name": "stdout",
     "output_type": "stream",
     "text": [
      "Click Through Probablity on 'Start Free Trial':\n",
      "pooled Probablity =  0.08215409089789526\n",
      "Standard Error =  0.0006610608156387222\n",
      "Margin of Error =  0.0012956791986518956\n",
      "Confidence Interval (-0.0012956791986518956, 0.0012956791986518956)\n",
      "d-hat =  5.662709158693602e-05\n"
     ]
    }
   ],
   "source": [
    "#Click Through Probablity\n",
    "print (\"Click Through Probablity on 'Start Free Trial':\")\n",
    "p_pool = (28378+28325)/(345543+344660)\n",
    "print (\"pooled Probablity = \", p_pool)\n",
    "SE_pool = math.sqrt(p_pool*(1-p_pool)*(1/345543+1/344660))\n",
    "print (\"Standard Error = \", SE_pool)\n",
    "ME_pool = 1.96*SE_pool\n",
    "print (\"Margin of Error = \", ME_pool)\n",
    "print (\"Confidence Interval\", (0-ME_pool, 0+ME_pool))\n",
    "print (\"d-hat = \", 28325/344660-28378/345543)"
   ]
  },
  {
   "cell_type": "markdown",
   "metadata": {},
   "source": [
    "d-hat falls in the Confidence Intercal, passes Santy Check"
   ]
  },
  {
   "cell_type": "markdown",
   "metadata": {},
   "source": [
    "### Effect Size Test"
   ]
  },
  {
   "cell_type": "code",
   "execution_count": 57,
   "metadata": {},
   "outputs": [
    {
     "name": "stdout",
     "output_type": "stream",
     "text": [
      "Control Group:\n",
      "Clicks =  17293 \t Enrollments =  3785.0 \t Payments =  2033.0\n",
      "\n",
      "Experiment Group:\n",
      "Clicks =  17260 \t Enrollments =  3423.0 \t Payments =  1945.0\n"
     ]
    }
   ],
   "source": [
    "#get total number of Clicks, Enrollment, and Payment for Control and Experiment group\n",
    "print (\"Control Group:\")\n",
    "print (\"Clicks = \", sum(con_2['Clicks']), \"\\t\", \"Enrollments = \", sum(con_2['Enrollments']), \"\\t\", \"Payments = \", sum(con_2['Payments']))\n",
    "print ()\n",
    "print (\"Experiment Group:\")\n",
    "print (\"Clicks = \", sum(exp_2['Clicks']), \"\\t\", \"Enrollments = \", sum(exp_2['Enrollments']), \"\\t\", \"Payments = \", sum(exp_2['Payments']))\n"
   ]
  },
  {
   "cell_type": "code",
   "execution_count": 63,
   "metadata": {},
   "outputs": [
    {
     "name": "stdout",
     "output_type": "stream",
     "text": [
      "Gross Conversion:\n",
      "pooled probablity =  0.20860706740369866\n",
      "Standard Error =  0.004371675385225936\n",
      "Margin of Error =  0.008568483755042836\n",
      "Difference =  -0.020554874580361565\n",
      "Confidence Interval =  (-0.0291233583354044, -0.01198639082531873)\n"
     ]
    }
   ],
   "source": [
    "print (\"Gross Conversion:\")\n",
    "p_pool = (3785+3423)/(17293+17260)\n",
    "print (\"pooled probablity = \", p_pool)\n",
    "SE_pool = math.sqrt(p_pool*(1-p_pool)*(1/17293+1/17260))\n",
    "print (\"Standard Error = \", SE_pool)\n",
    "ME_pool = 1.96*SE_pool\n",
    "print (\"Margin of Error = \", ME_pool)\n",
    "d = 3423/17260 - 3785/17293\n",
    "print (\"Difference = \", d)\n",
    "print (\"Confidence Interval = \", (d-ME_pool, d+ME_pool))"
   ]
  },
  {
   "cell_type": "markdown",
   "metadata": {},
   "source": [
    "0 does not fall in confidence interval, hence Statistically Significant  \n",
    "0.01 or -0.01, the dmin, does not fall in confidence intervall, hence practically significant "
   ]
  },
  {
   "cell_type": "code",
   "execution_count": 64,
   "metadata": {},
   "outputs": [
    {
     "name": "stdout",
     "output_type": "stream",
     "text": [
      "Net Conversion\n",
      "pooled probablity =  0.1151274853124186\n",
      "Standard Error =  0.0034341335129324238\n",
      "Margin of Error =  0.0067309016853475505\n",
      "Difference =  -0.0048737226745441675\n",
      "confidence Interval =  (-0.011604624359891718, 0.001857179010803383)\n"
     ]
    }
   ],
   "source": [
    "print (\"Net Conversion\")\n",
    "p_pool = (2033+1945)/(17293+17260)\n",
    "print (\"pooled probablity = \", p_pool)\n",
    "SE_pool = math.sqrt(p_pool*(1-p_pool)*(1/17293+1/17260))\n",
    "print (\"Standard Error = \", SE_pool)\n",
    "ME_pool = 1.96*SE_pool\n",
    "print (\"Margin of Error = \", ME_pool)\n",
    "d = 1945/17260 - 2033/17293\n",
    "print (\"Difference = \", d)\n",
    "print (\"confidence Interval = \", (d-ME_pool, d+ME_pool))"
   ]
  },
  {
   "cell_type": "markdown",
   "metadata": {},
   "source": [
    "o falls in confidence interval, hence not statistically significant  \n",
    "0.0075 or -0.0075, dmin, falls in confidence intercal, hence not practical significant"
   ]
  },
  {
   "cell_type": "markdown",
   "metadata": {},
   "source": [
    "#### Bonferroni Correction"
   ]
  },
  {
   "cell_type": "markdown",
   "metadata": {},
   "source": [
    "if we use Bonferroni Correction. the new alpha would be 0.0025, giving us a Z score of 2.5"
   ]
  },
  {
   "cell_type": "code",
   "execution_count": 65,
   "metadata": {},
   "outputs": [
    {
     "name": "stdout",
     "output_type": "stream",
     "text": [
      "New Margin of Error Gross Conversion =  0.010929188463064841\n",
      "New Margin of Error Net Conversion =  0.00858533378233106\n"
     ]
    }
   ],
   "source": [
    "print (\"New Margin of Error Gross Conversion = \", 2.5*0.004371675385225936)\n",
    "print (\"New Margin of Error Net Conversion = \", 2.5*0.0034341335129324238)"
   ]
  },
  {
   "cell_type": "markdown",
   "metadata": {},
   "source": [
    "with the new Margin of Error, Net Conversion is still statistically significant between Control and Experiment groups.  \n",
    "Hence we will not use Bonferroni Correction."
   ]
  },
  {
   "cell_type": "markdown",
   "metadata": {},
   "source": [
    "### Sign Test"
   ]
  },
  {
   "cell_type": "markdown",
   "metadata": {},
   "source": [
    "use online Calculator https://www.graphpad.com/quickcalcs/binomial1/ to conduct the Sgin Test"
   ]
  },
  {
   "cell_type": "code",
   "execution_count": 72,
   "metadata": {},
   "outputs": [
    {
     "name": "stdout",
     "output_type": "stream",
     "text": [
      "Gross Conversion:\n",
      "Success: 4 \t Total 23\n",
      "\n",
      "Net Conversion:\n",
      "Success: 10 \t Total 23\n"
     ]
    }
   ],
   "source": [
    "#first get \"successes\" and \"totals\" for Gross Conversion and Net Conversion\n",
    "print (\"Gross Conversion:\")\n",
    "Gross_Conversion_success = sum(exp_2['Enrollments']/exp_2['Clicks'] >con_2['Enrollments']/con_2['Clicks'])\n",
    "print (\"Success:\", Gross_Conversion_success, \"\\t\", \"Total\", 23)\n",
    "print ()\n",
    "print (\"Net Conversion:\")\n",
    "Net_Conversion_success = sum(exp_2['Payments']/exp_2['Clicks'] > con_2['Payments']/con_2['Clicks'])\n",
    "print (\"Success:\", Net_Conversion_success, \"\\t\", \"Total\", 23)"
   ]
  },
  {
   "cell_type": "markdown",
   "metadata": {},
   "source": [
    "p-Value for Gross Conversion is 0.0026  (Statistically Significant)\n",
    "\n",
    "p_Value for Net Conversion is 0.6776  (not Statistically Significant)"
   ]
  },
  {
   "cell_type": "markdown",
   "metadata": {},
   "source": [
    "## Conclusion"
   ]
  },
  {
   "cell_type": "markdown",
   "metadata": {},
   "source": [
    "We do **not** recommend launch the change base on result of the testing"
   ]
  },
  {
   "cell_type": "markdown",
   "metadata": {},
   "source": [
    "Reasons:\n",
    "    1. changes in Net Conversion is not statistically significant, let alone practically signficant, which means our investment won't promise return.\n",
    "    2. Gross Conversion is statistically significantly decreased, with analyzing the impact on Retention practically impossible, a decrease in Gross Conversion would lose the students who potentially found the course interest enough that they decided to commit more hours per week. "
   ]
  },
  {
   "cell_type": "markdown",
   "metadata": {},
   "source": [
    "#### Follow up Experiment"
   ]
  },
  {
   "cell_type": "markdown",
   "metadata": {},
   "source": [
    "I would discuss with the engineering team to figure another metric to measure the financial impact of the change without taking too much time to conduct the test. And conduct another test with the new Metric to see the financial impact of the change."
   ]
  }
 ],
 "metadata": {
  "kernelspec": {
   "display_name": "Python 3",
   "language": "python",
   "name": "python3"
  },
  "language_info": {
   "codemirror_mode": {
    "name": "ipython",
    "version": 3
   },
   "file_extension": ".py",
   "mimetype": "text/x-python",
   "name": "python",
   "nbconvert_exporter": "python",
   "pygments_lexer": "ipython3",
   "version": "3.7.3"
  }
 },
 "nbformat": 4,
 "nbformat_minor": 2
}
